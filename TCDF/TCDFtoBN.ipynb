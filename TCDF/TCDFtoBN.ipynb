{
 "cells": [
  {
   "cell_type": "markdown",
   "metadata": {},
   "source": [
    "## Convert TCDF results to bayesian network"
   ]
  },
  {
   "cell_type": "code",
   "execution_count": null,
   "metadata": {},
   "outputs": [],
   "source": [
    "import bnlearn as bn\n",
    "import numpy as np\n",
    "import pickle as pkl\n",
    "import pandas as pd\n",
    "import mlflow\n",
    "import mlflow.sklearn\n",
    "\n",
    "import sys\n",
    "import numpy\n",
    "\n",
    "import pyAgrum as gum\n",
    "import pyAgrum.skbn as skbn\n",
    "import pyAgrum.lib.notebook as gnb\n",
    "import pyAgrum.lib.image as gph \n",
    "import pyAgrum.lib.bn2graph as bng\n",
    "import pyAgrum.lib.bn_vs_bn as compare\n",
    "import pyAgrum.lib.bn_vs_bn as compare\n",
    "import pydotplus\n",
    "from sklearn.metrics import confusion_matrix\n",
    "import matplotlib.pyplot as plt\n",
    "import seaborn as sns\n",
    "numpy.set_printoptions(threshold=sys.maxsize)\n",
    "\n",
    "%matplotlib inline"
   ]
  },
  {
   "cell_type": "markdown",
   "metadata": {},
   "source": [
    "### Result 1: selected features, all parts"
   ]
  },
  {
   "cell_type": "code",
   "execution_count": null,
   "metadata": {},
   "outputs": [],
   "source": [
    "tcdf_edges = [('Taktzeit gesamt', 'Durchmesser Min. Fübo'), ('Taktzeit Abrichten OP1 Sp. 51', 'Durchmesser Min. Fübo'),\n",
    "              ('Be- / Entladezeit Seite A', 'Taktzeit gesamt'), ('Anz. Abrichthübe Sp. 51', 'Be- / Entladezeit Seite A'),\n",
    "              ('Anzahl Teile seit letztem Scheibenwechsel Sp. 51', 'Taktzeit Abrichten OP1 Sp. 51'), \n",
    "              ('Anzahl Teile seit letztem Scheibenwechsel Sp. 51', 'Unwucht Sp. 51 Leerlauf'),\n",
    "              ('Leistung Sp. 51', 'Aktueller Durchmesser Sp. 51'), ('Korr. Fübo 1 Sp. 51', 'Aktueller Durchmesser Sp. 51'),\n",
    "              ('Aktueller Durchmesser Sp. 51', 'Anzahl Teile seit letztem Scheibenwechsel Sp. 51'),\n",
    "              ('Anzahl Teile seit letztem Scheibenwechsel Sp. 51','Anz. Abrichthübe Sp. 51'),\n",
    "              ('Unwucht Sp. 51 Leerlauf', 'Anz. Abrichthübe Sp. 51'), \n",
    "              ('Anz. Abrichthübe Sp. 51', 'Taktzeit Abrichten OP1 Sp. 51'),\n",
    "              ('Korr. Fübo 1 Sp. 51', 'Anzahl Teile seit letztem Scheibenwechsel Sp. 51'),\n",
    "              ('Anzahl Teile seit letztem Abrichten Sp. 51', 'Unwucht Sp. 51 Leerlauf'),\n",
    "              ('Anzahl Teile seit letztem Abrichten Sp. 51', 'Peak-Beschleunigung (Zeitbereich) WSS A Schleifen Fübo'),\n",
    "              ('Anzahl Teile seit letztem Abrichten Sp. 51', 'Ext. Korr. Fübo 1 Sp. 51'),\n",
    "              ('Anzahl Teile seit letztem Abrichten Sp. 51', 'Ext. Durchmesser Min. Fübo 51'),\n",
    "              ('Anzahl Teile seit letztem Abrichten Sp. 51', 'Taktzeit Schleifen OP1 Sp. 51'),\n",
    "              ('Anzahl Teile seit letztem Abrichten Sp. 51','Taktzeit gesamt'),\n",
    "              ('Korr. Fübo 1 Sp. 51', 'Anzahl Teile seit letztem Abrichten Sp. 51'),\n",
    "              ('Anzahl Teile seit letztem Abrichten Sp. 51', 'Taktzeit Abrichten OP1 Sp. 51'),\n",
    "              ('Taktzeit Abrichten OP1 Sp. 51', 'Anz. ext. Korrektur PSH Fübo 1 Sp. 51'),\n",
    "              ('Peak-Beschleunigung (Zeitbereich) WSS A Schleifen Fübo', 'Anz. ext. Korrektur PSH Fübo 1 Sp. 51'),\n",
    "              ('Aktueller Durchmesser Sp. 51', 'Peak-Beschleunigung (Zeitbereich) WSS A Schleifen Fübo'),\n",
    "              ('Korr. Fübo 1 Sp. 51', 'Unwucht Sp. 51 Leerlauf'), \n",
    "              ('Peak-Beschleunigung (Zeitbereich) WSS A Schleifen Fübo', 'Unwucht Sp. 51 Leerlauf'),\n",
    "              ('Korr. Fübo 1 Sp. 51', 'Taktzeit gesamt'), ('Peak-Beschleunigung (Zeitbereich) WSS A Schleifen Fübo', 'Taktzeit gesamt'),\n",
    "              ('Taktzeit Schleifen OP1 Sp. 51', 'Taktzeit gesamt'), \n",
    "              ('Taktzeit Abrichten OP1 Sp. 51', 'Taktzeit gesamt'), \n",
    "              ('Korr. Fübo 1 Sp. 51', 'Taktzeit Abrichten OP1 Sp. 51'), ('Korr. PSH Sp. 51', 'Taktzeit Abrichten OP1 Sp. 51'),\n",
    "              ('Taktzeit Abrichten OP1 Sp. 51', 'Peak-Beschleunigung (Zeitbereich) Sp. 51 Leerlauf'),\n",
    "              #('Taktzeit Abrichten OP1 Sp. 51', 'Peak-Beschleunigung (Zeitbereich) WSS A Schleifen Fübo'), \n",
    "              ('Stückzahl bis Scheibenwechsel Sp. 51', 'Leistung Sp. 51'), ('Stückzahl bis Scheibenwechsel Sp. 51', 'Korr. PSH Sp. 51'),\n",
    "              ('Korr. Fübo 1 Sp. 51', 'Stückzahl bis Scheibenwechsel Sp. 51'),\n",
    "              ('Leistung Sp. 51', 'Peak-Beschleunigung (Zeitbereich) Sp. 51 Leerlauf'), \n",
    "              ('Korr. Fübo 1 Sp. 51', 'Peak-Beschleunigung (Zeitbereich) Sp. 51 Leerlauf'),\n",
    "              ('PSH Pos. B5', 'Korr. PSH Sp. 51'), ('Leistung Sp. 51', 'PSH Pos. B5'),\n",
    "              ('Korr. Fübo 1 Sp. 51', 'PSH Pos. B5'), ('Leistung Sp. 51', 'Korr. PSH Sp. 51'),\n",
    "              ('Korr. Fübo 1 Sp. 51', 'Leistung Sp. 51'), ('Korr. PSH Sp. 51', 'Ext. Durchmesser Min. Fübo 51'),\n",
    "              ('Korr. Fübo 1 Sp. 51', 'Korr. PSH Sp. 51'), ('Ext. Durchmesser Min. Fübo 51', 'Ext. Korr. Fübo 1 Sp. 51')]"
   ]
  },
  {
   "cell_type": "markdown",
   "metadata": {},
   "source": [
    "### Results 2: selected features, equal number of scrap and non-scrap parts"
   ]
  },
  {
   "cell_type": "code",
   "execution_count": null,
   "metadata": {},
   "outputs": [],
   "source": [
    "tcdf_edges = [\n",
    "('Korr. Fübo 1 Sp. 51', 'Aktueller Durchmesser Sp. 51' ),\n",
    "('Anz. Abrichthübe Sp. 51' , 'Aktueller Durchmesser Sp. 51' ),\n",
    "('Anzahl Teile seit letztem Abrichten Sp. 51' , 'Anz. ext. Korrektur PSH Fübo 1 Sp. 51' ),\n",
    "('Taktzeit gesamt' , 'Anz. ext. Korrektur PSH Fübo 1 Sp. 51' ),\n",
    "('Anz. Abrichthübe Sp. 51' , 'Anz. ext. Korrektur PSH Fübo 1 Sp. 51' ),\n",
    "('Taktzeit Abrichten OP1 Sp. 51' , 'Anz. ext. Korrektur PSH Fübo 1 Sp. 51' ),\n",
    "('Stückzahl bis Scheibenwechsel Sp. 51' , 'Anz. ext. Korrektur PSH Fübo 1 Sp. 51' ),\n",
    "('PSH Pos. B5' , 'Anz. ext. Korrektur PSH Fübo 1 Sp. 51' ),\n",
    "('Taktzeit gesamt' , 'Anzahl Teile seit letztem Abrichten Sp. 51' ),\n",
    "('Taktzeit Abrichten OP1 Sp. 51' , 'Anzahl Teile seit letztem Abrichten Sp. 51' ),\n",
    "('Leistung Sp. 51' , 'Anzahl Teile seit letztem Abrichten Sp. 51' ),\n",
    "('Korr. PSH Sp. 51' , 'Anzahl Teile seit letztem Abrichten Sp. 51' ),\n",
    "('Stückzahl bis Scheibenwechsel Sp. 51' , 'Anzahl Teile seit letztem Abrichten Sp. 51' ),\n",
    "('Peak-Beschleunigung (Zeitbereich) WSS A Schleifen Fübo' , 'Anzahl Teile seit letztem Abrichten Sp. 51' ),\n",
    "('Peak-Beschleunigung (Zeitbereich) Sp. 51 Leerlauf' , 'Anzahl Teile seit letztem Abrichten Sp. 51' ),\n",
    "('Korr. Fübo 1 Sp. 51' , 'Anzahl Teile seit letztem Scheibenwechsel Sp. 51' ),\n",
    "('Taktzeit gesamt' , 'Be- / Entladezeit Seite A' ),\n",
    "('Korr. Fübo 1 Sp. 51' , 'Ext. Durchmesser Min. Fübo 51' ),\n",
    "('Anz. Abrichthübe Sp. 51' ,'Ext. Durchmesser Min. Fübo 51' ),\n",
    "('Anz. ext. Korrektur PSH Fübo 1 Sp. 51' , 'Ext. Durchmesser Min. Fübo 51' ),\n",
    "('Ext. Durchmesser Min. Fübo 51' , 'Ext. Korr. Fübo 1 Sp. 51' ),\n",
    "('Stückzahl bis Scheibenwechsel Sp. 51' , 'Ext. Korr. Fübo 1 Sp. 51' ),\n",
    "('Korr. PSH Sp. 51' , 'Korr. Fübo 1 Sp. 51' ),\n",
    "('PSH Pos. B5' , 'Korr. Fübo 1 Sp. 51' ),\n",
    "('PSH Pos. B5' , 'Korr. PSH Sp. 51' ),\n",
    "('Anz. Abrichthübe Sp. 51' , 'Korr. PSH Sp. 51' ),\n",
    "('Stückzahl bis Scheibenwechsel Sp. 51' , 'Leistung Sp. 51' ),\n",
    "('Anzahl Teile seit letztem Scheibenwechsel Sp. 51' , 'Leistung Sp. 51' ),\n",
    "('Taktzeit gesamt' , 'Leistung Sp. 51' ),\n",
    "('Korr. Fübo 1 Sp. 51' , 'Leistung Sp. 51' ),\n",
    "('Anz. Abrichthübe Sp. 51' , 'PSH Pos. B5' ),\n",
    "('Unwucht Sp. 51 Leerlauf' , 'Peak-Beschleunigung (Zeitbereich) Sp. 51 Leerlauf' ),\n",
    "('Taktzeit gesamt' , 'Peak-Beschleunigung (Zeitbereich) Sp. 51 Leerlauf' ),\n",
    "('PSH Pos. B5' , 'Peak-Beschleunigung (Zeitbereich) Sp. 51 Leerlauf' ),\n",
    "('Anz. Abrichthübe Sp. 51' , 'Peak-Beschleunigung (Zeitbereich) Sp. 51 Leerlauf' ),\n",
    "('Stückzahl bis Scheibenwechsel Sp. 51' , 'Peak-Beschleunigung (Zeitbereich) Sp. 51 Leerlauf' ),\n",
    "('Peak-Beschleunigung (Zeitbereich) Sp. 51 Leerlauf' , 'Peak-Beschleunigung (Zeitbereich) WSS A Schleifen Fübo' ),\n",
    "('Taktzeit Abrichten OP1 Sp. 51' , 'Peak-Beschleunigung (Zeitbereich) WSS A Schleifen Fübo' ),\n",
    "('Korr. Fübo 1 Sp. 51' , 'Peak-Beschleunigung (Zeitbereich) WSS A Schleifen Fübo' ),\n",
    "('Be- / Entladezeit Seite A' , 'Peak-Beschleunigung (Zeitbereich) WSS A Schleifen Fübo' ),\n",
    "('Aktueller Durchmesser Sp. 51' , 'Stückzahl bis Scheibenwechsel Sp. 51' ),\n",
    "('Anz. Abrichthübe Sp. 51' , 'Stückzahl bis Scheibenwechsel Sp. 51' ),\n",
    "('Korr. PSH Sp. 51' , 'Taktzeit Abrichten OP1 Sp. 51' ),\n",
    "('Anz. Abrichthübe Sp. 51' , 'Taktzeit Abrichten OP1 Sp. 51'),\n",
    "('PSH Pos. B5' , 'Taktzeit Abrichten OP1 Sp. 51' ),\n",
    "('Peak-Beschleunigung (Zeitbereich) Sp. 51 Leerlauf' , 'Taktzeit Abrichten OP1 Sp. 51' ),\n",
    "('PSH Pos. B5' , 'Taktzeit Schleifen OP1 Sp. 51' ),\n",
    "('Taktzeit gesamt' , 'Taktzeit Schleifen OP1 Sp. 51' ),\n",
    "('Durchmesser Min. Fübo' , 'Taktzeit Schleifen OP1 Sp. 51' ),\n",
    "('Anzahl Teile seit letztem Abrichten Sp. 51' , 'Taktzeit Schleifen OP1 Sp. 51' ),\n",
    "('Taktzeit Abrichten OP1 Sp. 51' , 'Taktzeit gesamt' ),\n",
    "('Be- / Entladezeit Seite A' , 'Taktzeit gesamt' ),\n",
    "('Anz. Abrichthübe Sp. 51' , 'Taktzeit gesamt' ),\n",
    "('Aktueller Durchmesser Sp. 51' , 'Taktzeit gesamt' ),\n",
    "('Durchmesser Min. Fübo' , 'Taktzeit gesamt' ),\n",
    "('PSH Pos. B5' , 'Unwucht Sp. 51 Leerlauf '),\n",
    "('Anzahl Teile seit letztem Abrichten Sp. 51' , 'Unwucht Sp. 51 Leerlauf' ),\n",
    "('Aktueller Durchmesser Sp. 51' , 'Unwucht Sp. 51 Leerlauf' ),\n",
    "('Taktzeit gesamt' ,' Unwucht Sp. 51 Leerlauf' ),\n",
    "('Taktzeit Abrichten OP1 Sp. 51' , 'Durchmesser Min. Fübo' ),\n",
    "]"
   ]
  },
  {
   "cell_type": "code",
   "execution_count": null,
   "metadata": {},
   "outputs": [],
   "source": [
    "import pyAgrum.lib.notebook as gnb\n",
    "\n",
    "bn8=gum.BayesNet('TCDF-ScrapAnalysis')\n",
    "#counter = 1\n",
    "nodes = []\n",
    "for cols in normalized_df.columns:\n",
    "    node = bn8.add(gum.LabelizedVariable(str(cols), str(cols)))\n",
    "    nodes.append(node)\n",
    "\n",
    "for link in tcdf_edges:\n",
    "    print(link)\n",
    "    bn8.addArc(*link)\n",
    "\n",
    "gnb.show(bn8,size=\"15!\")"
   ]
  },
  {
   "cell_type": "code",
   "execution_count": null,
   "metadata": {},
   "outputs": [],
   "source": [
    "import pyAgrum.lib.notebook as gnb\n",
    "import pyAgrum.lib.image as gph \n",
    "import pyAgrum.lib.bn2graph as bng\n",
    "\n",
    "dot_data = bng.BN2dot(bn8,size=\"10\")\n",
    "dot_data.set_size('\"20,20!\"')\n",
    "dot_data.write_png('TCDF-BN-all-parts.png')"
   ]
  },
  {
   "cell_type": "code",
   "execution_count": null,
   "metadata": {},
   "outputs": [],
   "source": [
    "##compare tcdf with ground truth data\n",
    "diff = compare.GraphicalBNComparator(bn,bn8).scores()\n",
    "# get tp, tn, fp, fn to draw the confusion matrix \n",
    "json_str = json.dumps(diff)\n",
    "\n",
    "#load the json to a string\n",
    "resp = json.loads(json_str)\n",
    "\n",
    "tp1 = resp['count']['tp']\n",
    "tn1 = resp['count']['tn']\n",
    "fp1 = resp['count']['fp']\n",
    "fn1 = resp['count']['fn']"
   ]
  },
  {
   "cell_type": "code",
   "execution_count": null,
   "metadata": {},
   "outputs": [],
   "source": [
    "#result of all data \n",
    "#{'count': {'tp': 7, 'tn': 321, 'fp': 27, 'fn': 25}, 'recall': 0.21875, 'precision': 0.20588235294117646, 'fscore': 0.21212121212121213, 'dist2opt': 1.1139903051060374} {'count': {'tp': 9, 'tn': 321, 'fp': 27, 'fn': 23}, 'recall': 0.28125, 'precision': 0.25, 'fscore': 0.2647058823529412, 'dist2opt': 1.0387981336621663} {'count': {'tp': 11, 'tn': 324, 'fp': 24, 'fn': 21}, 'recall': 0.34375, 'precision': 0.3142857142857143, 'fscore': 0.3283582089552239, 'dist2opt': 0.9491407398972258}\n",
    "\n",
    "#result of first parts\n",
    "#{'count': {'tp': 3, 'tn': 298, 'fp': 16, 'fn': 25}, 'recall': 0.10714285714285714, 'precision': 0.15789473684210525, 'fscore': 0.1276595744680851, 'dist2opt': 1.2273284612479445} {'count': {'tp': 7, 'tn': 302, 'fp': 12, 'fn': 21}, 'recall': 0.25, 'precision': 0.3684210526315789, 'fscore': 0.2978723404255319, 'dist2opt': 0.9805059748716489} {'count': {'tp': 3, 'tn': 305, 'fp': 9, 'fn': 25}, 'recall': 0.10714285714285714, 'precision': 0.25, 'fscore': 0.15, 'dist2opt': 1.1660591226653219}\n",
    "\n",
    "#result of last parts\n",
    "#{'count': {'tp': 2, 'tn': 270, 'fp': 12, 'fn': 22}, 'recall': 0.08333333333333333, 'precision': 0.14285714285714285, 'fscore': 0.10526315789473685, 'dist2opt': 1.2549787469629907} {'count': {'tp': 3, 'tn': 271, 'fp': 11, 'fn': 21}, 'recall': 0.125, 'precision': 0.21428571428571427, 'fscore': 0.15789473684210525, 'dist2opt': 1.1759982732876397} {'count': {'tp': 2, 'tn': 270, 'fp': 12, 'fn': 22}, 'recall': 0.08333333333333333, 'precision': 0.14285714285714285, 'fscore': 0.10526315789473685, 'dist2opt': 1.2549787469629907}\n",
    "\n",
    "#result of scrap parts\n",
    "#{'count': {'tp': 6, 'tn': 334, 'fp': 14, 'fn': 26}, 'recall': 0.1875, 'precision': 0.3, 'fscore': 0.23076923076923075, 'dist2opt': 1.0724533789400823} {'count': {'tp': 4, 'tn': 330, 'fp': 18, 'fn': 28}, 'recall': 0.125, 'precision': 0.18181818181818182, 'fscore': 0.14814814814814814, 'dist2opt': 1.1979342584646728} {'count': {'tp': 4, 'tn': 334, 'fp': 14, 'fn': 28}, 'recall': 0.125, 'precision': 0.2222222222222222, 'fscore': 0.16, 'dist2opt': 1.1707105840492509}\n",
    "\n",
    "#result of equal number of parts\n",
    "#{'count': {'tp': 3, 'tn': 327, 'fp': 21, 'fn': 29}, 'recall': 0.09375, 'precision': 0.125, 'fscore': 0.10714285714285714, 'dist2opt': 1.2597277731716483} {'count': {'tp': 3, 'tn': 327, 'fp': 21, 'fn': 29}, 'recall': 0.09375, 'precision': 0.125, 'fscore': 0.10714285714285714, 'dist2opt': 1.2597277731716483} {'count': {'tp': 4, 'tn': 333, 'fp': 15, 'fn': 28}, 'recall': 0.125, 'precision': 0.21052631578947367, 'fscore': 0.1568627450980392, 'dist2opt': 1.1785133423347154}"
   ]
  },
  {
   "cell_type": "code",
   "execution_count": null,
   "metadata": {},
   "outputs": [],
   "source": [
    "from sklearn.metrics import confusion_matrix\n",
    "import matplotlib.pyplot as plt\n",
    "import seaborn as sns\n",
    "\n",
    "y_true = [tp1, fn1]\n",
    "y_pred = [fp1, tn1]\n",
    "labels = [\"True Pos\",\"False Neg\",\"False Pos\",\"True Neg\"]\n",
    "categories = [\"True\", \"False\"]\n",
    "cf_matrix = np.column_stack((y_true, y_pred))\n",
    "\n",
    "make_confusion_matrix(cf_matrix, \n",
    "                      group_names=labels,\n",
    "                      categories=categories)"
   ]
  },
  {
   "cell_type": "code",
   "execution_count": null,
   "metadata": {},
   "outputs": [],
   "source": [
    "#save results\n",
    "tcdf_diff = compare.GraphicalBNComparator(bn,bn8).dotDiff()\n",
    "tcdf_diff.write_png(\"gt-vs-tcdf-all-parts.png\")"
   ]
  },
  {
   "cell_type": "code",
   "execution_count": null,
   "metadata": {},
   "outputs": [],
   "source": []
  }
 ],
 "metadata": {
  "kernelspec": {
   "display_name": "Python [conda env:.conda-POC]",
   "language": "python",
   "name": "conda-env-.conda-POC-py"
  },
  "language_info": {
   "codemirror_mode": {
    "name": "ipython",
    "version": 3
   },
   "file_extension": ".py",
   "mimetype": "text/x-python",
   "name": "python",
   "nbconvert_exporter": "python",
   "pygments_lexer": "ipython3",
   "version": "3.7.10"
  }
 },
 "nbformat": 4,
 "nbformat_minor": 4
}
